{
  "nbformat": 4,
  "nbformat_minor": 0,
  "metadata": {
    "colab": {
      "name": "Simple Model Pipeline.ipynb",
      "provenance": [],
      "collapsed_sections": [],
      "include_colab_link": true
    },
    "kernelspec": {
      "name": "python3",
      "display_name": "Python 3"
    },
    "language_info": {
      "name": "python"
    }
  },
  "cells": [
    {
      "cell_type": "markdown",
      "metadata": {
        "id": "view-in-github",
        "colab_type": "text"
      },
      "source": [
        "<a href=\"https://colab.research.google.com/github/fajarkrisnajaya/fajarkrisnajaya/blob/main/Simple_Model_Pipeline.ipynb\" target=\"_parent\"><img src=\"https://colab.research.google.com/assets/colab-badge.svg\" alt=\"Open In Colab\"/></a>"
      ]
    },
    {
      "cell_type": "code",
      "metadata": {
        "id": "3QDwhyh8Z4E9"
      },
      "source": [
        "from sklearn import set_config\n",
        "set_config(display='diagram')"
      ],
      "execution_count": 89,
      "outputs": []
    },
    {
      "cell_type": "code",
      "metadata": {
        "id": "Z5O8PWvT4DkM"
      },
      "source": [
        "import pandas as pd\n",
        "import numpy as np\n",
        "from sklearn.model_selection import train_test_split\n",
        "from sklearn.tree import DecisionTreeClassifier\n",
        "from sklearn.ensemble import RandomForestClassifier\n",
        "from sklearn.datasets import make_classification\n",
        "from sklearn.pipeline import make_pipeline\n",
        "from sklearn.compose import make_column_transformer\n",
        "from sklearn.preprocessing import OneHotEncoder"
      ],
      "execution_count": 90,
      "outputs": []
    },
    {
      "cell_type": "code",
      "metadata": {
        "colab": {
          "base_uri": "https://localhost:8080/"
        },
        "id": "CT8K7PiA4m9L",
        "outputId": "2b9bdc4a-487b-492e-9918-54ec6a21ba3e"
      },
      "source": [
        "from google.colab import drive\n",
        "drive.mount('/content/drive', force_remount=True)"
      ],
      "execution_count": 91,
      "outputs": [
        {
          "output_type": "stream",
          "text": [
            "Mounted at /content/drive\n"
          ],
          "name": "stdout"
        }
      ]
    },
    {
      "cell_type": "markdown",
      "metadata": {
        "id": "J1w3x3GLlUiN"
      },
      "source": [
        "\n",
        "Pipeline :\n",
        "1. One Hot-Encoding\n",
        "2. Models (Decision & Random Forest)\n",
        "3. Fit\n",
        "---\n",
        "\n"
      ]
    },
    {
      "cell_type": "markdown",
      "metadata": {
        "id": "UZ5S-ietLQki"
      },
      "source": [
        "Data Preprocessing"
      ]
    },
    {
      "cell_type": "code",
      "metadata": {
        "colab": {
          "base_uri": "https://localhost:8080/",
          "height": 204
        },
        "id": "0G76yXXe4nF4",
        "outputId": "6c31bfae-c2ea-4bf3-d970-00ac33f97aab"
      },
      "source": [
        "df = pd.read_csv('/content/drive/MyDrive/recruitment_decision_tree.csv')\n",
        "df.head()"
      ],
      "execution_count": 92,
      "outputs": [
        {
          "output_type": "execute_result",
          "data": {
            "text/html": [
              "<div>\n",
              "<style scoped>\n",
              "    .dataframe tbody tr th:only-of-type {\n",
              "        vertical-align: middle;\n",
              "    }\n",
              "\n",
              "    .dataframe tbody tr th {\n",
              "        vertical-align: top;\n",
              "    }\n",
              "\n",
              "    .dataframe thead th {\n",
              "        text-align: right;\n",
              "    }\n",
              "</style>\n",
              "<table border=\"1\" class=\"dataframe\">\n",
              "  <thead>\n",
              "    <tr style=\"text-align: right;\">\n",
              "      <th></th>\n",
              "      <th>Serial_no</th>\n",
              "      <th>Gender</th>\n",
              "      <th>Python_exp</th>\n",
              "      <th>Experience_Years</th>\n",
              "      <th>Education</th>\n",
              "      <th>Internship</th>\n",
              "      <th>Score</th>\n",
              "      <th>Salary * 10E4</th>\n",
              "      <th>Offer_History</th>\n",
              "      <th>Location</th>\n",
              "      <th>Recruitment_Status</th>\n",
              "    </tr>\n",
              "  </thead>\n",
              "  <tbody>\n",
              "    <tr>\n",
              "      <th>0</th>\n",
              "      <td>1</td>\n",
              "      <td>Male</td>\n",
              "      <td>Yes</td>\n",
              "      <td>0.0</td>\n",
              "      <td>Graduate</td>\n",
              "      <td>No</td>\n",
              "      <td>5139</td>\n",
              "      <td>0.0</td>\n",
              "      <td>1.0</td>\n",
              "      <td>Urban</td>\n",
              "      <td>Y</td>\n",
              "    </tr>\n",
              "    <tr>\n",
              "      <th>1</th>\n",
              "      <td>2</td>\n",
              "      <td>Male</td>\n",
              "      <td>No</td>\n",
              "      <td>1.0</td>\n",
              "      <td>Graduate</td>\n",
              "      <td>No</td>\n",
              "      <td>4583</td>\n",
              "      <td>128.0</td>\n",
              "      <td>1.0</td>\n",
              "      <td>Rural</td>\n",
              "      <td>N</td>\n",
              "    </tr>\n",
              "    <tr>\n",
              "      <th>2</th>\n",
              "      <td>3</td>\n",
              "      <td>Male</td>\n",
              "      <td>No</td>\n",
              "      <td>0.0</td>\n",
              "      <td>Graduate</td>\n",
              "      <td>Yes</td>\n",
              "      <td>3000</td>\n",
              "      <td>66.0</td>\n",
              "      <td>1.0</td>\n",
              "      <td>Urban</td>\n",
              "      <td>Y</td>\n",
              "    </tr>\n",
              "    <tr>\n",
              "      <th>3</th>\n",
              "      <td>4</td>\n",
              "      <td>Male</td>\n",
              "      <td>No</td>\n",
              "      <td>0.0</td>\n",
              "      <td>Not Graduate</td>\n",
              "      <td>No</td>\n",
              "      <td>2583</td>\n",
              "      <td>120.0</td>\n",
              "      <td>1.0</td>\n",
              "      <td>Urban</td>\n",
              "      <td>Y</td>\n",
              "    </tr>\n",
              "    <tr>\n",
              "      <th>4</th>\n",
              "      <td>5</td>\n",
              "      <td>Male</td>\n",
              "      <td>Yes</td>\n",
              "      <td>0.0</td>\n",
              "      <td>Graduate</td>\n",
              "      <td>No</td>\n",
              "      <td>6000</td>\n",
              "      <td>141.0</td>\n",
              "      <td>1.0</td>\n",
              "      <td>Urban</td>\n",
              "      <td>Y</td>\n",
              "    </tr>\n",
              "  </tbody>\n",
              "</table>\n",
              "</div>"
            ],
            "text/plain": [
              "   Serial_no Gender Python_exp  ...  Offer_History Location Recruitment_Status\n",
              "0          1   Male        Yes  ...            1.0    Urban                  Y\n",
              "1          2   Male         No  ...            1.0    Rural                  N\n",
              "2          3   Male         No  ...            1.0    Urban                  Y\n",
              "3          4   Male         No  ...            1.0    Urban                  Y\n",
              "4          5   Male        Yes  ...            1.0    Urban                  Y\n",
              "\n",
              "[5 rows x 11 columns]"
            ]
          },
          "metadata": {
            "tags": []
          },
          "execution_count": 92
        }
      ]
    },
    {
      "cell_type": "markdown",
      "metadata": {
        "id": "wP7Gad6rhSU4"
      },
      "source": [
        "Target Mapping & Removing NaNs"
      ]
    },
    {
      "cell_type": "code",
      "metadata": {
        "id": "gOvOKV_o4lTr"
      },
      "source": [
        "df[\"Recruitment_Status\"]=df[\"Recruitment_Status\"].replace({\"Y\":1,\"N\":0})"
      ],
      "execution_count": 93,
      "outputs": []
    },
    {
      "cell_type": "code",
      "metadata": {
        "id": "clrKCVcSXR1W"
      },
      "source": [
        "df.dropna(inplace=True)"
      ],
      "execution_count": 94,
      "outputs": []
    },
    {
      "cell_type": "markdown",
      "metadata": {
        "id": "68-Su6wjkzEf"
      },
      "source": [
        "Encoding & Models"
      ]
    },
    {
      "cell_type": "code",
      "metadata": {
        "id": "WS2VrNBvTW9r"
      },
      "source": [
        "dtc = DecisionTreeClassifier(random_state=321)\n",
        "rfc = RandomForestClassifier(random_state=321,n_estimators=150,criterion=\"entropy\")\n",
        "ohe = OneHotEncoder()"
      ],
      "execution_count": 95,
      "outputs": []
    },
    {
      "cell_type": "code",
      "metadata": {
        "id": "u_pyvHMcQjQs"
      },
      "source": [
        "X = df.drop('Recruitment_Status', axis=1)\n",
        "Y = df['Recruitment_Status']\n",
        "\n",
        "X_train, X_test, y_train, y_test = train_test_split(X,Y, test_size=0.25,random_state=22)"
      ],
      "execution_count": 96,
      "outputs": []
    },
    {
      "cell_type": "code",
      "metadata": {
        "id": "qoHoB5FZRG8K"
      },
      "source": [
        "ct = make_column_transformer (\n",
        "                              (ohe,[\"Gender\",\"Python_exp\",\"Education\",\"Internship\",\"Location\"]),\n",
        "                              remainder = \"passthrough\"\n",
        "                              )"
      ],
      "execution_count": 97,
      "outputs": []
    },
    {
      "cell_type": "code",
      "metadata": {
        "colab": {
          "base_uri": "https://localhost:8080/",
          "height": 164
        },
        "id": "y9uYD6cBXkIX",
        "outputId": "549f8d75-9a9f-4e3a-909b-bed577e3463d"
      },
      "source": [
        "pipe_dtc = make_pipeline(ct,dtc)\n",
        "pipe_dtc.fit(X_train, y_train)"
      ],
      "execution_count": 98,
      "outputs": [
        {
          "output_type": "execute_result",
          "data": {
            "text/html": [
              "<style>#sk-2879a5b9-ac56-458e-bd3a-a3f418ce7c1b {color: black;background-color: white;}#sk-2879a5b9-ac56-458e-bd3a-a3f418ce7c1b pre{padding: 0;}#sk-2879a5b9-ac56-458e-bd3a-a3f418ce7c1b div.sk-toggleable {background-color: white;}#sk-2879a5b9-ac56-458e-bd3a-a3f418ce7c1b label.sk-toggleable__label {cursor: pointer;display: block;width: 100%;margin-bottom: 0;padding: 0.2em 0.3em;box-sizing: border-box;text-align: center;}#sk-2879a5b9-ac56-458e-bd3a-a3f418ce7c1b div.sk-toggleable__content {max-height: 0;max-width: 0;overflow: hidden;text-align: left;background-color: #f0f8ff;}#sk-2879a5b9-ac56-458e-bd3a-a3f418ce7c1b div.sk-toggleable__content pre {margin: 0.2em;color: black;border-radius: 0.25em;background-color: #f0f8ff;}#sk-2879a5b9-ac56-458e-bd3a-a3f418ce7c1b input.sk-toggleable__control:checked~div.sk-toggleable__content {max-height: 200px;max-width: 100%;overflow: auto;}#sk-2879a5b9-ac56-458e-bd3a-a3f418ce7c1b div.sk-estimator input.sk-toggleable__control:checked~label.sk-toggleable__label {background-color: #d4ebff;}#sk-2879a5b9-ac56-458e-bd3a-a3f418ce7c1b div.sk-label input.sk-toggleable__control:checked~label.sk-toggleable__label {background-color: #d4ebff;}#sk-2879a5b9-ac56-458e-bd3a-a3f418ce7c1b input.sk-hidden--visually {border: 0;clip: rect(1px 1px 1px 1px);clip: rect(1px, 1px, 1px, 1px);height: 1px;margin: -1px;overflow: hidden;padding: 0;position: absolute;width: 1px;}#sk-2879a5b9-ac56-458e-bd3a-a3f418ce7c1b div.sk-estimator {font-family: monospace;background-color: #f0f8ff;margin: 0.25em 0.25em;border: 1px dotted black;border-radius: 0.25em;box-sizing: border-box;}#sk-2879a5b9-ac56-458e-bd3a-a3f418ce7c1b div.sk-estimator:hover {background-color: #d4ebff;}#sk-2879a5b9-ac56-458e-bd3a-a3f418ce7c1b div.sk-parallel-item::after {content: \"\";width: 100%;border-bottom: 1px solid gray;flex-grow: 1;}#sk-2879a5b9-ac56-458e-bd3a-a3f418ce7c1b div.sk-label:hover label.sk-toggleable__label {background-color: #d4ebff;}#sk-2879a5b9-ac56-458e-bd3a-a3f418ce7c1b div.sk-serial::before {content: \"\";position: absolute;border-left: 1px solid gray;box-sizing: border-box;top: 2em;bottom: 0;left: 50%;}#sk-2879a5b9-ac56-458e-bd3a-a3f418ce7c1b div.sk-serial {display: flex;flex-direction: column;align-items: center;background-color: white;}#sk-2879a5b9-ac56-458e-bd3a-a3f418ce7c1b div.sk-item {z-index: 1;}#sk-2879a5b9-ac56-458e-bd3a-a3f418ce7c1b div.sk-parallel {display: flex;align-items: stretch;justify-content: center;background-color: white;}#sk-2879a5b9-ac56-458e-bd3a-a3f418ce7c1b div.sk-parallel-item {display: flex;flex-direction: column;position: relative;background-color: white;}#sk-2879a5b9-ac56-458e-bd3a-a3f418ce7c1b div.sk-parallel-item:first-child::after {align-self: flex-end;width: 50%;}#sk-2879a5b9-ac56-458e-bd3a-a3f418ce7c1b div.sk-parallel-item:last-child::after {align-self: flex-start;width: 50%;}#sk-2879a5b9-ac56-458e-bd3a-a3f418ce7c1b div.sk-parallel-item:only-child::after {width: 0;}#sk-2879a5b9-ac56-458e-bd3a-a3f418ce7c1b div.sk-dashed-wrapped {border: 1px dashed gray;margin: 0.2em;box-sizing: border-box;padding-bottom: 0.1em;background-color: white;position: relative;}#sk-2879a5b9-ac56-458e-bd3a-a3f418ce7c1b div.sk-label label {font-family: monospace;font-weight: bold;background-color: white;display: inline-block;line-height: 1.2em;}#sk-2879a5b9-ac56-458e-bd3a-a3f418ce7c1b div.sk-label-container {position: relative;z-index: 2;text-align: center;}#sk-2879a5b9-ac56-458e-bd3a-a3f418ce7c1b div.sk-container {display: inline-block;position: relative;}</style><div id=\"sk-2879a5b9-ac56-458e-bd3a-a3f418ce7c1b\" class\"sk-top-container\"><div class=\"sk-container\"><div class=\"sk-item sk-dashed-wrapped\"><div class=\"sk-label-container\"><div class=\"sk-label sk-toggleable\"><input class=\"sk-toggleable__control sk-hidden--visually\" id=\"7792464d-e74d-4959-949e-7cdd2f9571cd\" type=\"checkbox\" ><label class=\"sk-toggleable__label\" for=\"7792464d-e74d-4959-949e-7cdd2f9571cd\">Pipeline</label><div class=\"sk-toggleable__content\"><pre>Pipeline(steps=[('columntransformer',\n",
              "                 ColumnTransformer(remainder='passthrough',\n",
              "                                   transformers=[('onehotencoder',\n",
              "                                                  OneHotEncoder(),\n",
              "                                                  ['Gender', 'Python_exp',\n",
              "                                                   'Education', 'Internship',\n",
              "                                                   'Location'])])),\n",
              "                ('decisiontreeclassifier',\n",
              "                 DecisionTreeClassifier(random_state=321))])</pre></div></div></div><div class=\"sk-serial\"><div class=\"sk-item sk-dashed-wrapped\"><div class=\"sk-label-container\"><div class=\"sk-label sk-toggleable\"><input class=\"sk-toggleable__control sk-hidden--visually\" id=\"4d8a3082-0ec8-470d-b1f8-fcc866352682\" type=\"checkbox\" ><label class=\"sk-toggleable__label\" for=\"4d8a3082-0ec8-470d-b1f8-fcc866352682\">columntransformer: ColumnTransformer</label><div class=\"sk-toggleable__content\"><pre>ColumnTransformer(remainder='passthrough',\n",
              "                  transformers=[('onehotencoder', OneHotEncoder(),\n",
              "                                 ['Gender', 'Python_exp', 'Education',\n",
              "                                  'Internship', 'Location'])])</pre></div></div></div><div class=\"sk-parallel\"><div class=\"sk-parallel-item\"><div class=\"sk-item\"><div class=\"sk-label-container\"><div class=\"sk-label sk-toggleable\"><input class=\"sk-toggleable__control sk-hidden--visually\" id=\"4d4c7286-299f-4bee-87db-997e05c803da\" type=\"checkbox\" ><label class=\"sk-toggleable__label\" for=\"4d4c7286-299f-4bee-87db-997e05c803da\">onehotencoder</label><div class=\"sk-toggleable__content\"><pre>['Gender', 'Python_exp', 'Education', 'Internship', 'Location']</pre></div></div></div><div class=\"sk-serial\"><div class=\"sk-item\"><div class=\"sk-estimator sk-toggleable\"><input class=\"sk-toggleable__control sk-hidden--visually\" id=\"fb891856-50be-4054-8495-abe48ac0722f\" type=\"checkbox\" ><label class=\"sk-toggleable__label\" for=\"fb891856-50be-4054-8495-abe48ac0722f\">OneHotEncoder</label><div class=\"sk-toggleable__content\"><pre>OneHotEncoder()</pre></div></div></div></div></div></div><div class=\"sk-parallel-item\"><div class=\"sk-item\"><div class=\"sk-label-container\"><div class=\"sk-label sk-toggleable\"><input class=\"sk-toggleable__control sk-hidden--visually\" id=\"e0bf501a-7c55-43da-b8ab-222b86c6e23c\" type=\"checkbox\" ><label class=\"sk-toggleable__label\" for=\"e0bf501a-7c55-43da-b8ab-222b86c6e23c\">remainder</label><div class=\"sk-toggleable__content\"><pre>['Serial_no', 'Experience_Years', 'Score', 'Salary * 10E4', 'Offer_History']</pre></div></div></div><div class=\"sk-serial\"><div class=\"sk-item\"><div class=\"sk-estimator sk-toggleable\"><input class=\"sk-toggleable__control sk-hidden--visually\" id=\"2cd09781-4f43-4926-9fc5-ba7c6306cd34\" type=\"checkbox\" ><label class=\"sk-toggleable__label\" for=\"2cd09781-4f43-4926-9fc5-ba7c6306cd34\">passthrough</label><div class=\"sk-toggleable__content\"><pre>passthrough</pre></div></div></div></div></div></div></div></div><div class=\"sk-item\"><div class=\"sk-estimator sk-toggleable\"><input class=\"sk-toggleable__control sk-hidden--visually\" id=\"7f4823a0-b2a8-4135-b7d2-3122e3f0c5d8\" type=\"checkbox\" ><label class=\"sk-toggleable__label\" for=\"7f4823a0-b2a8-4135-b7d2-3122e3f0c5d8\">DecisionTreeClassifier</label><div class=\"sk-toggleable__content\"><pre>DecisionTreeClassifier(random_state=321)</pre></div></div></div></div></div></div></div>"
            ],
            "text/plain": [
              "Pipeline(steps=[('columntransformer',\n",
              "                 ColumnTransformer(remainder='passthrough',\n",
              "                                   transformers=[('onehotencoder',\n",
              "                                                  OneHotEncoder(),\n",
              "                                                  ['Gender', 'Python_exp',\n",
              "                                                   'Education', 'Internship',\n",
              "                                                   'Location'])])),\n",
              "                ('decisiontreeclassifier',\n",
              "                 DecisionTreeClassifier(random_state=321))])"
            ]
          },
          "metadata": {
            "tags": []
          },
          "execution_count": 98
        }
      ]
    },
    {
      "cell_type": "code",
      "metadata": {
        "colab": {
          "base_uri": "https://localhost:8080/",
          "height": 164
        },
        "id": "Q4ll4m5SkMmu",
        "outputId": "7d46cc16-42ac-4300-d3c3-e217a334545b"
      },
      "source": [
        "pipe_rfc = make_pipeline(ct,rfc)\n",
        "pipe_rfc.fit(X_train, y_train)"
      ],
      "execution_count": 99,
      "outputs": [
        {
          "output_type": "execute_result",
          "data": {
            "text/html": [
              "<style>#sk-17b232d6-c397-4679-a6d7-ca5292348668 {color: black;background-color: white;}#sk-17b232d6-c397-4679-a6d7-ca5292348668 pre{padding: 0;}#sk-17b232d6-c397-4679-a6d7-ca5292348668 div.sk-toggleable {background-color: white;}#sk-17b232d6-c397-4679-a6d7-ca5292348668 label.sk-toggleable__label {cursor: pointer;display: block;width: 100%;margin-bottom: 0;padding: 0.2em 0.3em;box-sizing: border-box;text-align: center;}#sk-17b232d6-c397-4679-a6d7-ca5292348668 div.sk-toggleable__content {max-height: 0;max-width: 0;overflow: hidden;text-align: left;background-color: #f0f8ff;}#sk-17b232d6-c397-4679-a6d7-ca5292348668 div.sk-toggleable__content pre {margin: 0.2em;color: black;border-radius: 0.25em;background-color: #f0f8ff;}#sk-17b232d6-c397-4679-a6d7-ca5292348668 input.sk-toggleable__control:checked~div.sk-toggleable__content {max-height: 200px;max-width: 100%;overflow: auto;}#sk-17b232d6-c397-4679-a6d7-ca5292348668 div.sk-estimator input.sk-toggleable__control:checked~label.sk-toggleable__label {background-color: #d4ebff;}#sk-17b232d6-c397-4679-a6d7-ca5292348668 div.sk-label input.sk-toggleable__control:checked~label.sk-toggleable__label {background-color: #d4ebff;}#sk-17b232d6-c397-4679-a6d7-ca5292348668 input.sk-hidden--visually {border: 0;clip: rect(1px 1px 1px 1px);clip: rect(1px, 1px, 1px, 1px);height: 1px;margin: -1px;overflow: hidden;padding: 0;position: absolute;width: 1px;}#sk-17b232d6-c397-4679-a6d7-ca5292348668 div.sk-estimator {font-family: monospace;background-color: #f0f8ff;margin: 0.25em 0.25em;border: 1px dotted black;border-radius: 0.25em;box-sizing: border-box;}#sk-17b232d6-c397-4679-a6d7-ca5292348668 div.sk-estimator:hover {background-color: #d4ebff;}#sk-17b232d6-c397-4679-a6d7-ca5292348668 div.sk-parallel-item::after {content: \"\";width: 100%;border-bottom: 1px solid gray;flex-grow: 1;}#sk-17b232d6-c397-4679-a6d7-ca5292348668 div.sk-label:hover label.sk-toggleable__label {background-color: #d4ebff;}#sk-17b232d6-c397-4679-a6d7-ca5292348668 div.sk-serial::before {content: \"\";position: absolute;border-left: 1px solid gray;box-sizing: border-box;top: 2em;bottom: 0;left: 50%;}#sk-17b232d6-c397-4679-a6d7-ca5292348668 div.sk-serial {display: flex;flex-direction: column;align-items: center;background-color: white;}#sk-17b232d6-c397-4679-a6d7-ca5292348668 div.sk-item {z-index: 1;}#sk-17b232d6-c397-4679-a6d7-ca5292348668 div.sk-parallel {display: flex;align-items: stretch;justify-content: center;background-color: white;}#sk-17b232d6-c397-4679-a6d7-ca5292348668 div.sk-parallel-item {display: flex;flex-direction: column;position: relative;background-color: white;}#sk-17b232d6-c397-4679-a6d7-ca5292348668 div.sk-parallel-item:first-child::after {align-self: flex-end;width: 50%;}#sk-17b232d6-c397-4679-a6d7-ca5292348668 div.sk-parallel-item:last-child::after {align-self: flex-start;width: 50%;}#sk-17b232d6-c397-4679-a6d7-ca5292348668 div.sk-parallel-item:only-child::after {width: 0;}#sk-17b232d6-c397-4679-a6d7-ca5292348668 div.sk-dashed-wrapped {border: 1px dashed gray;margin: 0.2em;box-sizing: border-box;padding-bottom: 0.1em;background-color: white;position: relative;}#sk-17b232d6-c397-4679-a6d7-ca5292348668 div.sk-label label {font-family: monospace;font-weight: bold;background-color: white;display: inline-block;line-height: 1.2em;}#sk-17b232d6-c397-4679-a6d7-ca5292348668 div.sk-label-container {position: relative;z-index: 2;text-align: center;}#sk-17b232d6-c397-4679-a6d7-ca5292348668 div.sk-container {display: inline-block;position: relative;}</style><div id=\"sk-17b232d6-c397-4679-a6d7-ca5292348668\" class\"sk-top-container\"><div class=\"sk-container\"><div class=\"sk-item sk-dashed-wrapped\"><div class=\"sk-label-container\"><div class=\"sk-label sk-toggleable\"><input class=\"sk-toggleable__control sk-hidden--visually\" id=\"9753d544-5f03-45b5-b226-0dc380ee158c\" type=\"checkbox\" ><label class=\"sk-toggleable__label\" for=\"9753d544-5f03-45b5-b226-0dc380ee158c\">Pipeline</label><div class=\"sk-toggleable__content\"><pre>Pipeline(steps=[('columntransformer',\n",
              "                 ColumnTransformer(remainder='passthrough',\n",
              "                                   transformers=[('onehotencoder',\n",
              "                                                  OneHotEncoder(),\n",
              "                                                  ['Gender', 'Python_exp',\n",
              "                                                   'Education', 'Internship',\n",
              "                                                   'Location'])])),\n",
              "                ('randomforestclassifier',\n",
              "                 RandomForestClassifier(criterion='entropy', n_estimators=150,\n",
              "                                        random_state=321))])</pre></div></div></div><div class=\"sk-serial\"><div class=\"sk-item sk-dashed-wrapped\"><div class=\"sk-label-container\"><div class=\"sk-label sk-toggleable\"><input class=\"sk-toggleable__control sk-hidden--visually\" id=\"74645ea6-13ee-4401-999c-bbc47d1f8e5a\" type=\"checkbox\" ><label class=\"sk-toggleable__label\" for=\"74645ea6-13ee-4401-999c-bbc47d1f8e5a\">columntransformer: ColumnTransformer</label><div class=\"sk-toggleable__content\"><pre>ColumnTransformer(remainder='passthrough',\n",
              "                  transformers=[('onehotencoder', OneHotEncoder(),\n",
              "                                 ['Gender', 'Python_exp', 'Education',\n",
              "                                  'Internship', 'Location'])])</pre></div></div></div><div class=\"sk-parallel\"><div class=\"sk-parallel-item\"><div class=\"sk-item\"><div class=\"sk-label-container\"><div class=\"sk-label sk-toggleable\"><input class=\"sk-toggleable__control sk-hidden--visually\" id=\"185ecba1-f84e-4b23-b413-7efa9e617b98\" type=\"checkbox\" ><label class=\"sk-toggleable__label\" for=\"185ecba1-f84e-4b23-b413-7efa9e617b98\">onehotencoder</label><div class=\"sk-toggleable__content\"><pre>['Gender', 'Python_exp', 'Education', 'Internship', 'Location']</pre></div></div></div><div class=\"sk-serial\"><div class=\"sk-item\"><div class=\"sk-estimator sk-toggleable\"><input class=\"sk-toggleable__control sk-hidden--visually\" id=\"5e68de50-7dad-46af-b236-25902abac194\" type=\"checkbox\" ><label class=\"sk-toggleable__label\" for=\"5e68de50-7dad-46af-b236-25902abac194\">OneHotEncoder</label><div class=\"sk-toggleable__content\"><pre>OneHotEncoder()</pre></div></div></div></div></div></div><div class=\"sk-parallel-item\"><div class=\"sk-item\"><div class=\"sk-label-container\"><div class=\"sk-label sk-toggleable\"><input class=\"sk-toggleable__control sk-hidden--visually\" id=\"0121bdb1-c3b6-4b58-8077-90d060faf1d2\" type=\"checkbox\" ><label class=\"sk-toggleable__label\" for=\"0121bdb1-c3b6-4b58-8077-90d060faf1d2\">remainder</label><div class=\"sk-toggleable__content\"><pre>['Serial_no', 'Experience_Years', 'Score', 'Salary * 10E4', 'Offer_History']</pre></div></div></div><div class=\"sk-serial\"><div class=\"sk-item\"><div class=\"sk-estimator sk-toggleable\"><input class=\"sk-toggleable__control sk-hidden--visually\" id=\"5fc71077-20aa-4ea9-b4fa-58ed4de73502\" type=\"checkbox\" ><label class=\"sk-toggleable__label\" for=\"5fc71077-20aa-4ea9-b4fa-58ed4de73502\">passthrough</label><div class=\"sk-toggleable__content\"><pre>passthrough</pre></div></div></div></div></div></div></div></div><div class=\"sk-item\"><div class=\"sk-estimator sk-toggleable\"><input class=\"sk-toggleable__control sk-hidden--visually\" id=\"ccd4e803-6e98-4758-881f-248003e3515a\" type=\"checkbox\" ><label class=\"sk-toggleable__label\" for=\"ccd4e803-6e98-4758-881f-248003e3515a\">RandomForestClassifier</label><div class=\"sk-toggleable__content\"><pre>RandomForestClassifier(criterion='entropy', n_estimators=150, random_state=321)</pre></div></div></div></div></div></div></div>"
            ],
            "text/plain": [
              "Pipeline(steps=[('columntransformer',\n",
              "                 ColumnTransformer(remainder='passthrough',\n",
              "                                   transformers=[('onehotencoder',\n",
              "                                                  OneHotEncoder(),\n",
              "                                                  ['Gender', 'Python_exp',\n",
              "                                                   'Education', 'Internship',\n",
              "                                                   'Location'])])),\n",
              "                ('randomforestclassifier',\n",
              "                 RandomForestClassifier(criterion='entropy', n_estimators=150,\n",
              "                                        random_state=321))])"
            ]
          },
          "metadata": {
            "tags": []
          },
          "execution_count": 99
        }
      ]
    },
    {
      "cell_type": "code",
      "metadata": {
        "colab": {
          "base_uri": "https://localhost:8080/"
        },
        "id": "68xXk0HTYkvd",
        "outputId": "2f2de8f2-63e0-41a2-c162-839acace9fdb"
      },
      "source": [
        "import sklearn.metrics as metrics\n",
        "from sklearn.metrics import confusion_matrix\n",
        "Y_pred = pipe_dtc.predict(X_test)\n",
        "print(Y_pred)\n",
        "print(\"Accuracy\", metrics.accuracy_score(y_test, Y_pred))"
      ],
      "execution_count": 100,
      "outputs": [
        {
          "output_type": "stream",
          "text": [
            "[1 0 1 1 1 0 0 1 1 1 1 1 1 0 0 1 1 1 0 1 0 1 1 0 1 1 1 1 1 1 0 1 1 1 1 1 1\n",
            " 0 1 1 1 0 1 0 1 0 1 1 0 1 1 1 1 1 1 1 0 1 1 1 1 0 1 1 0 1 1 1 1 0 0 1 0 1\n",
            " 1 1 1 1 1 0 1 1 1 1 1 1 0 1 1 1 1 0 1 1 1 0 0 1 1 0 1 0 1 1 1 1 1 1 1 1 1\n",
            " 0 1 1 1 1 1 1 0 1 1 1 1 1]\n",
            "Accuracy 0.7661290322580645\n"
          ],
          "name": "stdout"
        }
      ]
    },
    {
      "cell_type": "code",
      "metadata": {
        "colab": {
          "base_uri": "https://localhost:8080/"
        },
        "id": "duw_-EkWkXV-",
        "outputId": "be98db1d-ed28-4ffe-e70a-be6c0e3a4a02"
      },
      "source": [
        "import sklearn.metrics as metrics\n",
        "from sklearn.metrics import confusion_matrix\n",
        "Y_pred = pipe_rfc.predict(X_test)\n",
        "print(Y_pred)\n",
        "print(\"Accuracy\", metrics.accuracy_score(y_test, Y_pred))"
      ],
      "execution_count": 101,
      "outputs": [
        {
          "output_type": "stream",
          "text": [
            "[1 0 1 1 1 1 0 1 1 1 1 1 1 0 0 1 1 1 0 1 0 1 1 0 0 0 1 1 1 1 0 1 1 1 1 1 1\n",
            " 0 1 1 1 0 1 1 1 1 0 1 0 1 1 1 1 1 1 1 1 1 1 0 1 0 1 1 0 1 1 1 1 1 0 1 1 1\n",
            " 1 1 1 1 1 0 1 1 1 1 1 1 0 1 0 1 1 0 1 1 1 1 0 1 1 0 1 1 1 1 1 1 1 1 1 1 1\n",
            " 0 1 1 1 1 1 1 0 1 1 1 1 1]\n",
            "Accuracy 0.8225806451612904\n"
          ],
          "name": "stdout"
        }
      ]
    }
  ]
}